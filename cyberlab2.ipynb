{
  "nbformat": 4,
  "nbformat_minor": 0,
  "metadata": {
    "colab": {
      "provenance": [],
      "authorship_tag": "ABX9TyOXhlM3KSRBRz+Hox/pZI65",
      "include_colab_link": true
    },
    "kernelspec": {
      "name": "python3",
      "display_name": "Python 3"
    },
    "language_info": {
      "name": "python"
    }
  },
  "cells": [
    {
      "cell_type": "markdown",
      "metadata": {
        "id": "view-in-github",
        "colab_type": "text"
      },
      "source": [
        "<a href=\"https://colab.research.google.com/github/Atharv24-Atreus/Cyber_Security-/blob/main/cyberlab2.ipynb\" target=\"_parent\"><img src=\"https://colab.research.google.com/assets/colab-badge.svg\" alt=\"Open In Colab\"/></a>"
      ]
    },
    {
      "cell_type": "code",
      "execution_count": 4,
      "metadata": {
        "colab": {
          "base_uri": "https://localhost:8080/"
        },
        "id": "vXrKZ5Av8_WO",
        "outputId": "5817237f-d8ac-44ee-de78-88f1268f4e28"
      },
      "outputs": [
        {
          "output_type": "stream",
          "name": "stdout",
          "text": [
            "Collecting scapy\n",
            "  Downloading scapy-2.6.1-py3-none-any.whl.metadata (5.6 kB)\n",
            "Downloading scapy-2.6.1-py3-none-any.whl (2.4 MB)\n",
            "\u001b[2K   \u001b[90m━━━━━━━━━━━━━━━━━━━━━━━━━━━━━━━━━━━━━━━━\u001b[0m \u001b[32m2.4/2.4 MB\u001b[0m \u001b[31m23.7 MB/s\u001b[0m eta \u001b[36m0:00:00\u001b[0m\n",
            "\u001b[?25hInstalling collected packages: scapy\n",
            "Successfully installed scapy-2.6.1\n"
          ]
        }
      ],
      "source": [
        "pip install scapy"
      ]
    },
    {
      "cell_type": "markdown",
      "source": [],
      "metadata": {
        "id": "BzumgL9xHkgX"
      }
    },
    {
      "cell_type": "markdown",
      "source": [
        "1.\tWrite a Python program that extracts and analyzes TCP flows from a network capture file. The program should:\n",
        "•\tIdentify all unique TCP flows (defined as a unique combination of source IP, source port, destination IP, and destination port).\n",
        "•\tCount the number of packets and the total byte size for each TCP flow.\n",
        "•\tPrint the summary of TCP flows, including the source IP, destination IP, source port, destination port, packet count, and total byte size.\n"
      ],
      "metadata": {
        "id": "U_P1fiXECHgX"
      }
    },
    {
      "cell_type": "markdown",
      "source": [
        "Filters packets that contain both TCP and IP layers.\n",
        "Extracts source and destination IPs/ports.\n",
        "This script analyzes a PCAP file and extracts TCP flows. It identifies the top 10 most active connections based on packet count and data transfer. This helps in detecting network activity patterns, high-traffic flows, and potential anomalies."
      ],
      "metadata": {
        "id": "XDjw6gLCH_Kb"
      }
    },
    {
      "cell_type": "code",
      "source": [
        "from scapy.all import rdpcap, IP, TCP\n",
        "from collections import defaultdict\n",
        "\n",
        "# Path to the pcap file (update if necessary)\n",
        "pcap_file_path = \"Sample.pcap\"\n",
        "\n",
        "# Read packets from the pcap file\n",
        "packets = rdpcap(pcap_file_path)\n",
        "\n",
        "# Dictionary to store TCP flows\n",
        "tcp_flows = defaultdict(lambda: {\"packet_count\": 0, \"total_bytes\": 0})\n",
        "\n",
        "# Process each packet\n",
        "for packet in packets:\n",
        "    if packet.haslayer(TCP) and packet.haslayer(IP):\n",
        "        # Extract flow details\n",
        "        src_ip = packet[IP].src\n",
        "        dst_ip = packet[IP].dst\n",
        "        src_port = packet[TCP].sport\n",
        "        dst_port = packet[TCP].dport\n",
        "\n",
        "        # Create a unique flow key (sorted to track both directions)\n",
        "        flow_key = (src_ip, src_port, dst_ip, dst_port)\n",
        "\n",
        "        # Update packet count and total byte size\n",
        "        tcp_flows[flow_key][\"packet_count\"] += 1\n",
        "        tcp_flows[flow_key][\"total_bytes\"] += len(packet)\n",
        "\n",
        "# Sort flows by packet count in descending order and get the top 10\n",
        "top_tcp_flows = sorted(tcp_flows.items(), key=lambda x: x[1][\"packet_count\"], reverse=True)[:10]\n",
        "\n",
        "# Print the summary of TCP flows\n",
        "print(f\"{'Source IP':<15}{'Source Port':<12}{'Destination IP':<15}{'Dest Port':<10}{'Packets':<10}{'Bytes'}\")\n",
        "print(\"=\" * 70)\n",
        "\n",
        "for flow, stats in tcp_flows.items():\n",
        "    src_ip, src_port, dst_ip, dst_port = flow\n",
        "    print(f\"{src_ip:<15}{src_port:<12}{dst_ip:<15}{dst_port:<10}{stats['packet_count']:<10}{stats['total_bytes']}\")\n",
        "\n"
      ],
      "metadata": {
        "colab": {
          "base_uri": "https://localhost:8080/"
        },
        "id": "tUQTiFKI9D2U",
        "outputId": "53772e0d-3ce2-4914-d5c9-59919d9b17bd"
      },
      "execution_count": null,
      "outputs": [
        {
          "output_type": "stream",
          "name": "stdout",
          "text": [
            "Source IP      Source Port Destination IP Dest Port Packets   Bytes\n",
            "======================================================================\n",
            "10.11.12.101   49157       104.124.60.139 80        5         379\n",
            "104.124.60.139 80          10.11.12.101   49157     5         453\n",
            "10.11.12.101   49158       80.85.159.236  80        78        4556\n",
            "80.85.159.236  80          10.11.12.101   49158     168       246994\n",
            "10.11.12.101   49159       172.217.2.238  80        6         1069\n",
            "172.217.2.238  80          10.11.12.101   49159     4         2116\n",
            "10.11.12.101   49161       172.217.1.132  80        7         1228\n",
            "10.11.12.101   49162       172.217.1.132  80        7         1192\n",
            "172.217.1.132  80          10.11.12.101   49161     5         3765\n",
            "172.217.1.132  80          10.11.12.101   49162     7         7042\n",
            "10.11.12.101   49163       72.21.81.200   443       11        1341\n",
            "10.11.12.101   49164       72.21.81.200   443       15        1381\n",
            "10.11.12.101   49165       72.21.81.200   443       10        884\n",
            "10.11.12.101   49166       72.21.81.200   443       13        1387\n",
            "72.21.81.200   443         10.11.12.101   49163     12        8220\n",
            "72.21.81.200   443         10.11.12.101   49164     26        24965\n",
            "72.21.81.200   443         10.11.12.101   49165     11        7745\n",
            "72.21.81.200   443         10.11.12.101   49166     12        8369\n",
            "10.11.12.101   49168       194.87.147.244 80        9         1224\n",
            "194.87.147.244 80          10.11.12.101   49168     9         6779\n",
            "10.11.12.101   49169       216.58.194.78  80        5         1014\n",
            "216.58.194.78  80          10.11.12.101   49169     4         2115\n",
            "10.11.12.101   49171       172.217.12.69  443       7         691\n",
            "10.11.12.101   49172       172.217.12.69  443       10        1354\n",
            "172.217.12.69  443         10.11.12.101   49171     7         3443\n",
            "172.217.12.69  443         10.11.12.101   49172     10        5679\n",
            "10.11.12.101   49173       172.217.6.132  443       9         1644\n",
            "10.11.12.101   49174       172.217.6.132  443       11        1716\n",
            "172.217.6.132  443         10.11.12.101   49173     10        6944\n",
            "172.217.6.132  443         10.11.12.101   49174     12        10281\n",
            "10.11.12.101   49176       194.87.147.244 80        60        4170\n",
            "194.87.147.244 80          10.11.12.101   49176     159       231893\n",
            "10.11.12.101   49178       194.87.147.244 80        85        5055\n",
            "194.87.147.244 80          10.11.12.101   49178     193       286790\n",
            "10.11.12.101   49179       216.58.194.142 443       11        1602\n",
            "216.58.194.142 443         10.11.12.101   49179     12        6634\n",
            "10.11.12.101   49180       172.217.12.69  443       11        1344\n",
            "172.217.12.69  443         10.11.12.101   49180     12        5819\n",
            "10.11.12.101   49181       85.143.219.95  443       11        1865\n",
            "85.143.219.95  443         10.11.12.101   49181     9         1771\n",
            "10.11.12.101   49182       85.143.219.95  443       12        1423\n",
            "85.143.219.95  443         10.11.12.101   49182     10        2033\n",
            "10.11.12.101   49212       85.143.219.95  443       11        1401\n",
            "85.143.219.95  443         10.11.12.101   49212     9         2843\n",
            "10.11.12.101   49213       85.143.219.95  443       11        1465\n",
            "85.143.219.95  443         10.11.12.101   49213     9         2027\n",
            "10.11.12.101   49214       124.217.255.96 80        80        4539\n",
            "124.217.255.96 80          10.11.12.101   49214     178       259775\n",
            "10.11.12.101   49215       94.140.114.6   443       12        4681\n",
            "94.140.114.6   443         10.11.12.101   49215     11        2259\n",
            "10.11.12.101   49216       94.140.114.6   443       159       9382\n",
            "94.140.114.6   443         10.11.12.101   49216     348       505674\n",
            "10.11.12.101   49217       94.140.114.6   443       9         1282\n",
            "94.140.114.6   443         10.11.12.101   49217     8         1857\n",
            "10.11.12.101   49218       94.140.114.6   443       9         1282\n",
            "94.140.114.6   443         10.11.12.101   49218     8         1857\n",
            "10.11.12.101   49250       5.61.34.51     443       10        2637\n",
            "5.61.34.51     443         10.11.12.101   49250     9         2185\n",
            "10.11.12.101   49282       5.61.34.51     443       13        4233\n",
            "5.61.34.51     443         10.11.12.101   49282     16        11539\n",
            "10.11.12.101   49284       5.61.34.51     443       10        2018\n",
            "5.61.34.51     443         10.11.12.101   49284     9         2185\n",
            "10.11.12.101   49287       5.61.34.51     443       11        2365\n",
            "5.61.34.51     443         10.11.12.101   49287     10        2239\n",
            "10.11.12.101   49298       85.143.219.95  443       10        1395\n",
            "85.143.219.95  443         10.11.12.101   49298     9         1910\n",
            "10.11.12.101   49315       85.143.219.95  443       9         1741\n",
            "85.143.219.95  443         10.11.12.101   49315     8         1717\n",
            "10.11.12.101   49324       85.143.219.95  443       9         1789\n",
            "85.143.219.95  443         10.11.12.101   49324     8         1717\n"
          ]
        }
      ]
    },
    {
      "cell_type": "markdown",
      "source": [
        "2.\tCreate a Python program that extracts IP addresses from a network capture file and determines their geolocation. The program should:\n",
        "•\tParse the packets to extract source IP addresses.\n",
        "•\tUse an IP geolocation API (such as ipinfo.io, ipapi, or a similar service) to get the country, region, and city of each IP address.\n",
        "•\tList the IP addresses along with their corresponding geolocation information and count the number of unique IPs for each location.\n"
      ],
      "metadata": {
        "id": "oiE3QZptCKTs"
      }
    },
    {
      "cell_type": "markdown",
      "source": [
        "This script analyzes a PCAP file to extract unique external IP addresses and determines their geographical location using an IP geolocation API. It helps in identifying the origin of network traffic, which is useful for security analysis, threat detection, and monitoring suspicious connections"
      ],
      "metadata": {
        "id": "Cp2AFELGIyw-"
      }
    },
    {
      "cell_type": "code",
      "source": [
        "import requests\n",
        "from scapy.all import rdpcap, IP\n",
        "from collections import defaultdict\n",
        "\n",
        "# Path to the pcap file\n",
        "pcap_file_path = \"Sample.pcap\"\n",
        "\n",
        "# Read packets from the pcap file\n",
        "packets = rdpcap(pcap_file_path)\n",
        "\n",
        "# Set to store unique external IPs\n",
        "ip_addresses = set()\n",
        "\n",
        "# Function to check if an IP is private/internal\n",
        "def is_private_ip(ip):\n",
        "    private_ranges = [\n",
        "        \"10.\", \"172.16.\", \"172.17.\", \"172.18.\", \"172.19.\",\n",
        "        \"172.20.\", \"172.21.\", \"172.22.\", \"172.23.\",\n",
        "        \"172.24.\", \"172.25.\", \"172.26.\", \"172.27.\",\n",
        "        \"172.28.\", \"172.29.\", \"172.30.\", \"172.31.\", \"192.168.\"\n",
        "    ]\n",
        "    return any(ip.startswith(prefix) for prefix in private_ranges)\n",
        "\n",
        "# Extract source IPs from packets\n",
        "for packet in packets:\n",
        "    if packet.haslayer(IP):\n",
        "        src_ip = packet[IP].src\n",
        "        if not is_private_ip(src_ip):  # Exclude private IPs\n",
        "            ip_addresses.add(src_ip)\n",
        "\n",
        "# Dictionary to store geolocation results\n",
        "geo_data = defaultdict(int)\n",
        "\n",
        "# Function to get geolocation of an IP using ip-api.com\n",
        "def get_geolocation(ip):\n",
        "    url = f\"http://ip-api.com/json/{ip}\"\n",
        "    try:\n",
        "        response = requests.get(url, timeout=5)\n",
        "        data = response.json()\n",
        "        if data[\"status\"] == \"success\":\n",
        "            return f\"{data['country']}, {data['regionName']}, {data['city']}\"\n",
        "    except Exception as e:\n",
        "        print(f\"Error fetching geolocation for {ip}: {e}\")\n",
        "    return \"Unknown Location\"\n",
        "\n",
        "# Fetch geolocation data for each IP\n",
        "for ip in ip_addresses:\n",
        "    location = get_geolocation(ip)\n",
        "    geo_data[location] += 1\n",
        "\n",
        "# Print results\n",
        "print(f\"{'IP Address':<20}{'Location':<40}\")\n",
        "print(\"=\" * 60)\n",
        "for ip in ip_addresses:\n",
        "    print(f\"{ip:<20}{get_geolocation(ip):<40}\")\n",
        "\n",
        "# Print summary of unique locations\n",
        "print(\"\\nUnique Locations Count:\")\n",
        "print(\"=\" * 40)\n",
        "for location, count in geo_data.items():\n",
        "    print(f\"{location:<30} {count} IPs\")\n"
      ],
      "metadata": {
        "colab": {
          "base_uri": "https://localhost:8080/"
        },
        "id": "YWk6M5fo97rK",
        "outputId": "e3087029-7caf-4215-ece2-7c6a000e81ec"
      },
      "execution_count": null,
      "outputs": [
        {
          "output_type": "stream",
          "name": "stdout",
          "text": [
            "IP Address          Location                                \n",
            "============================================================\n",
            "94.140.114.6        Latvia, Rīga, Riga                      \n",
            "172.217.6.132       United States, Texas, Dallas            \n",
            "5.61.34.51          Germany, Hesse, Frankfurt am Main       \n",
            "194.87.147.244      Russia, Moscow Oblast, Korolyov         \n",
            "124.217.255.96      Malaysia, Kuala Lumpur, Kuala Lumpur    \n",
            "216.58.194.78       United States, California, Mountain View\n",
            "72.21.81.200        United States, California, Los Angeles  \n",
            "104.124.60.139      United States, Massachusetts, Cambridge \n",
            "85.143.219.95       Russia, St.-Petersburg, St Petersburg   \n",
            "216.58.194.142      United States, California, Mountain View\n",
            "80.85.159.236       Russia, Chelyabinsk Oblast, Chelyabinsk \n",
            "172.217.12.69       United States, California, Mountain View\n",
            "208.67.222.222      United States, California, San Francisco\n",
            "172.217.1.132       United States, Georgia, Atlanta         \n",
            "172.217.2.238       United States, Texas, Dallas            \n",
            "\n",
            "Unique Locations Count:\n",
            "========================================\n",
            "Latvia, Rīga, Riga             1 IPs\n",
            "United States, Texas, Dallas   2 IPs\n",
            "Germany, Hesse, Frankfurt am Main 1 IPs\n",
            "Russia, Moscow Oblast, Korolyov 1 IPs\n",
            "Malaysia, Kuala Lumpur, Kuala Lumpur 1 IPs\n",
            "United States, California, Mountain View 3 IPs\n",
            "United States, California, Los Angeles 1 IPs\n",
            "United States, Massachusetts, Cambridge 1 IPs\n",
            "Russia, St.-Petersburg, St Petersburg 1 IPs\n",
            "Russia, Chelyabinsk Oblast, Chelyabinsk 1 IPs\n",
            "United States, California, San Francisco 1 IPs\n",
            "United States, Georgia, Atlanta 1 IPs\n"
          ]
        }
      ]
    },
    {
      "cell_type": "markdown",
      "source": [
        "3.\tDevelop a Python program to monitor and report suspicious port scanning activity based on a network capture file. The program should:\n",
        "•\tDetect when a single source IP address attempts to connect to multiple ports on a destination IP address in a short time frame (e.g., within 5 seconds).\n",
        "•\tFlag such activity as potential port scanning and print a report that includes the source IP, destination IP, the range of ports scanned, and the timestamp of the first and last detected scan.\n"
      ],
      "metadata": {
        "id": "kvsorI0IClj6"
      }
    },
    {
      "cell_type": "code",
      "source": [
        "from scapy.all import rdpcap, IP, TCP\n",
        "from collections import defaultdict\n",
        "import datetime\n",
        "\n",
        "# Path to the PCAP file\n",
        "pcap_file_path = \"Sample.pcap\"\n",
        "\n",
        "try:\n",
        "    # Read packets from the PCAP file\n",
        "    packets = rdpcap(pcap_file_path)\n",
        "except FileNotFoundError:\n",
        "    print(\"Error: PCAP file not found.\")\n",
        "    exit()\n",
        "\n",
        "# Dictionary to store scanning activity: { (src_ip, dst_ip) : [(timestamp, dst_port)] }\n",
        "scan_attempts = defaultdict(list)\n",
        "\n",
        "# Time threshold for detecting port scans (5 seconds)\n",
        "TIME_WINDOW = 5\n",
        "\n",
        "# Process each packet\n",
        "for packet in packets:\n",
        "    if packet.haslayer(IP) and packet.haslayer(TCP):\n",
        "        if packet[TCP].flags == 2:  # SYN flag set (connection attempt)\n",
        "            src_ip = packet[IP].src\n",
        "            dst_ip = packet[IP].dst\n",
        "            dst_port = packet[TCP].dport\n",
        "            timestamp = packet.time  # Packet timestamp\n",
        "\n",
        "            # Store scanning attempt\n",
        "            scan_attempts[(src_ip, dst_ip)].append((timestamp, dst_port))\n",
        "\n",
        "# Store results in a list (for Colab output)\n",
        "results = []\n",
        "results.append(f\"{'Source IP':<18}{'Destination IP':<18}{'Ports Scanned':<30}{'First Scan':<20}{'Last Scan'}\")\n",
        "results.append(\"=\" * 100)\n",
        "\n",
        "# Detect potential port scanning\n",
        "for (src_ip, dst_ip), attempts in scan_attempts.items():\n",
        "    attempts.sort()\n",
        "\n",
        "    scanned_ports = []\n",
        "    first_time = attempts[0][0]\n",
        "    last_time = attempts[0][0]\n",
        "\n",
        "    for i in range(len(attempts)):\n",
        "        timestamp, dst_port = attempts[i]\n",
        "\n",
        "        # Check if port scanning occurs within the time window\n",
        "        if timestamp - first_time <= TIME_WINDOW:\n",
        "            scanned_ports.append(dst_port)\n",
        "            last_time = timestamp\n",
        "        else:\n",
        "            # If a time gap is found, report previous scan and reset tracking\n",
        "            if len(scanned_ports) > 5:  # Threshold: More than 5 ports scanned\n",
        "                first_time_str = datetime.datetime.fromtimestamp(first_time).strftime('%Y-%m-%d %H:%M:%S')\n",
        "                last_time_str = datetime.datetime.fromtimestamp(last_time).strftime('%Y-%m-%d %H:%M:%S')\n",
        "                results.append(f\"{src_ip:<18}{dst_ip:<18}{str(scanned_ports):<30}{first_time_str:<20}{last_time_str}\")\n",
        "\n",
        "            # Reset tracking for new scan burst\n",
        "            scanned_ports = [dst_port]\n",
        "            first_time = timestamp\n",
        "            last_time = timestamp\n",
        "\n",
        "    # Print remaining detected scan\n",
        "    if len(scanned_ports) > 5:\n",
        "        first_time_str = datetime.datetime.fromtimestamp(first_time).strftime('%Y-%m-%d %H:%M:%S')\n",
        "        last_time_str = datetime.datetime.fromtimestamp(last_time).strftime('%Y-%m-%d %H:%M:%S')\n",
        "        results.append(f\"{src_ip:<18}{dst_ip:<18}{str(scanned_ports):<30}{first_time_str:<20}{last_time_str}\")\n",
        "\n",
        "# Print all results at once\n",
        "if len(results) > 2:\n",
        "    for line in results:\n",
        "        print(line)\n",
        "else:\n",
        "    print(\"No port scanning activity detected.\")\n"
      ],
      "metadata": {
        "colab": {
          "base_uri": "https://localhost:8080/"
        },
        "id": "u7d82B93-T_W",
        "outputId": "1cccbcc4-a903-43bc-cb4e-c8301fc48596"
      },
      "execution_count": 10,
      "outputs": [
        {
          "output_type": "stream",
          "name": "stdout",
          "text": [
            "No port scanning activity detected.\n"
          ]
        }
      ]
    },
    {
      "cell_type": "markdown",
      "source": [
        "4.\tWrite a Python script to extract the originating IP address from an email header and use an IP geolocation API to find the approximate location of the email sender. The program should handle cases where the sender's IP is masked or hidden."
      ],
      "metadata": {
        "id": "n0TntACmDDGP"
      }
    },
    {
      "cell_type": "code",
      "source": [
        "from scapy.all import rdpcap, IP\n",
        "import requests\n",
        "\n",
        "def extract_ip_from_pcap(file_path):\n",
        "    \"\"\"Extract source IP addresses from a PCAP file.\"\"\"\n",
        "    packets = rdpcap(file_path)\n",
        "    ip_addresses = set()\n",
        "\n",
        "    for packet in packets:\n",
        "        if IP in packet:\n",
        "            ip_addresses.add(packet[IP].src)\n",
        "\n",
        "    return list(ip_addresses)\n",
        "\n",
        "def is_private_ip(ip):\n",
        "    \"\"\"Check if an IP address is private.\"\"\"\n",
        "    private_ranges = [\n",
        "        (\"10.\",),\n",
        "        (\"172.\", range(16, 32)),\n",
        "        (\"192.168.\",)\n",
        "    ]\n",
        "\n",
        "    for prefix in private_ranges:\n",
        "        if isinstance(prefix, tuple) and len(prefix) > 1 and isinstance(prefix[1], range): # Check if tuple has more than one element\n",
        "            if ip.startswith(prefix[0]) and int(ip.split(\".\")[1]) in prefix[1]:\n",
        "                return True\n",
        "        elif ip.startswith(prefix[0]):\n",
        "            return True\n",
        "    return False\n",
        "\n",
        "def get_geolocation(ip):\n",
        "    \"\"\"Fetch geolocation data for an IP address using an external API.\"\"\"\n",
        "    try:\n",
        "        response = requests.get(f'http://ip-api.com/json/{ip}')\n",
        "        data = response.json()\n",
        "        if data['status'] == 'success':\n",
        "            return {\n",
        "                \"IP\": ip,\n",
        "                \"Country\": data.get(\"country\"),\n",
        "                \"Region\": data.get(\"regionName\"),\n",
        "                \"City\": data.get(\"city\"),\n",
        "                \"ISP\": data.get(\"isp\"),\n",
        "                \"Latitude\": data.get(\"lat\"),\n",
        "                \"Longitude\": data.get(\"lon\")\n",
        "            }\n",
        "        else:\n",
        "            return {\"Error\": \"Could not retrieve location\"}\n",
        "    except requests.RequestException:\n",
        "        return {\"Error\": \"API request failed\"}\n",
        "\n",
        "if __name__ == \"__main__\":\n",
        "    pcap_file = \"Sample.pcap\"  # Changed the path to Sample.pcap.\n",
        "    # Please ensure the file 'Sample.pcap' exists in the same directory as your script or provide the correct path\n",
        "\n",
        "    ip_list = extract_ip_from_pcap(pcap_file)\n",
        "    public_ips = [ip for ip in ip_list if not is_private_ip(ip)]\n",
        "\n",
        "    if public_ips:\n",
        "        for ip in public_ips:\n",
        "            print(f\"Extracted Public IP: {ip}\")\n",
        "            location_info = get_geolocation(ip)\n",
        "            print(\"Geolocation Data:\", location_info)\n",
        "    else:\n",
        "        print(\"No public IP addresses found in the PCAP file.\")"
      ],
      "metadata": {
        "colab": {
          "base_uri": "https://localhost:8080/"
        },
        "id": "zBEmL9fQCmZO",
        "outputId": "e41fe863-15af-4987-a4e4-bb06f3dc0128"
      },
      "execution_count": 9,
      "outputs": [
        {
          "output_type": "stream",
          "name": "stdout",
          "text": [
            "Extracted Public IP: 94.140.114.6\n",
            "Geolocation Data: {'IP': '94.140.114.6', 'Country': 'Latvia', 'Region': 'Rīga', 'City': 'Riga', 'ISP': 'Sia Nano IT', 'Latitude': 56.921, 'Longitude': 24.1698}\n",
            "Extracted Public IP: 172.217.1.132\n",
            "Geolocation Data: {'IP': '172.217.1.132', 'Country': 'United States', 'Region': 'Georgia', 'City': 'Atlanta', 'ISP': 'Google LLC', 'Latitude': 33.7488, 'Longitude': -84.3877}\n",
            "Extracted Public IP: 172.217.12.69\n",
            "Geolocation Data: {'IP': '172.217.12.69', 'Country': 'United States', 'Region': 'California', 'City': 'Mountain View', 'ISP': 'Google LLC', 'Latitude': 37.4225, 'Longitude': -122.085}\n",
            "Extracted Public IP: 208.67.222.222\n",
            "Geolocation Data: {'IP': '208.67.222.222', 'Country': 'United States', 'Region': 'California', 'City': 'San Francisco', 'ISP': 'Cisco OpenDNS, LLC', 'Latitude': 37.7642, 'Longitude': -122.3993}\n",
            "Extracted Public IP: 172.217.6.132\n",
            "Geolocation Data: {'IP': '172.217.6.132', 'Country': 'United States', 'Region': 'Texas', 'City': 'Dallas', 'ISP': 'Google LLC', 'Latitude': 32.7767, 'Longitude': -96.797}\n",
            "Extracted Public IP: 216.58.194.142\n",
            "Geolocation Data: {'IP': '216.58.194.142', 'Country': 'United States', 'Region': 'California', 'City': 'Mountain View', 'ISP': 'Google LLC', 'Latitude': 37.4043, 'Longitude': -122.0748}\n",
            "Extracted Public IP: 72.21.81.200\n",
            "Geolocation Data: {'IP': '72.21.81.200', 'Country': 'United States', 'Region': 'California', 'City': 'Los Angeles', 'ISP': 'Edgecast Inc.', 'Latitude': 33.9751, 'Longitude': -118.426}\n",
            "Extracted Public IP: 80.85.159.236\n",
            "Geolocation Data: {'IP': '80.85.159.236', 'Country': 'Russia', 'Region': 'Chelyabinsk Oblast', 'City': 'Chelyabinsk', 'ISP': 'Chelyabinsk-Signal LLC', 'Latitude': 55.1553, 'Longitude': 61.4313}\n",
            "Extracted Public IP: 216.58.194.78\n",
            "Geolocation Data: {'IP': '216.58.194.78', 'Country': 'United States', 'Region': 'California', 'City': 'Mountain View', 'ISP': 'Google LLC', 'Latitude': 37.4043, 'Longitude': -122.0748}\n",
            "Extracted Public IP: 194.87.147.244\n",
            "Geolocation Data: {'IP': '194.87.147.244', 'Country': 'Russia', 'Region': 'Moscow Oblast', 'City': 'Korolyov', 'ISP': 'JSC Mediasoft ekspert', 'Latitude': 55.9155, 'Longitude': 37.8263}\n",
            "Extracted Public IP: 124.217.255.96\n",
            "Geolocation Data: {'IP': '124.217.255.96', 'Country': 'Malaysia', 'Region': 'Kuala Lumpur', 'City': 'Kuala Lumpur', 'ISP': 'Shinjiru Technology Sdn Bhd', 'Latitude': 3.09657, 'Longitude': 101.677}\n",
            "Extracted Public IP: 5.61.34.51\n",
            "Geolocation Data: {'IP': '5.61.34.51', 'Country': 'Germany', 'Region': 'Hesse', 'City': 'Frankfurt am Main', 'ISP': 'LeaseWeb DE', 'Latitude': 50.1109, 'Longitude': 8.68213}\n",
            "Extracted Public IP: 104.124.60.139\n",
            "Geolocation Data: {'IP': '104.124.60.139', 'Country': 'United States', 'Region': 'Massachusetts', 'City': 'Cambridge', 'ISP': 'Akamai International B.V.', 'Latitude': 42.3649, 'Longitude': -71.0888}\n",
            "Extracted Public IP: 172.217.2.238\n",
            "Geolocation Data: {'IP': '172.217.2.238', 'Country': 'United States', 'Region': 'Texas', 'City': 'Dallas', 'ISP': 'Google LLC', 'Latitude': 32.7767, 'Longitude': -96.797}\n",
            "Extracted Public IP: 85.143.219.95\n",
            "Geolocation Data: {'IP': '85.143.219.95', 'Country': 'Russia', 'Region': 'St.-Petersburg', 'City': 'St Petersburg', 'ISP': 'TIMES', 'Latitude': 60.0167, 'Longitude': 30.3261}\n"
          ]
        }
      ]
    },
    {
      "cell_type": "code",
      "source": [],
      "metadata": {
        "id": "KrtSGGhNDU2I"
      },
      "execution_count": null,
      "outputs": []
    }
  ]
}