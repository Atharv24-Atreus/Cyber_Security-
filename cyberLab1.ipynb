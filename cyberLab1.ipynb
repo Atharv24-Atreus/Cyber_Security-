{
  "nbformat": 4,
  "nbformat_minor": 0,
  "metadata": {
    "colab": {
      "provenance": [],
      "gpuType": "T4",
      "authorship_tag": "ABX9TyOnvaK9T6Fk51AU8mMcVK8G",
      "include_colab_link": true
    },
    "kernelspec": {
      "name": "python3",
      "display_name": "Python 3"
    },
    "language_info": {
      "name": "python"
    },
    "accelerator": "GPU"
  },
  "cells": [
    {
      "cell_type": "markdown",
      "metadata": {
        "id": "view-in-github",
        "colab_type": "text"
      },
      "source": [
        "<a href=\"https://colab.research.google.com/github/Atharv24-Atreus/Cyber_Security-/blob/main/cyberLab1.ipynb\" target=\"_parent\"><img src=\"https://colab.research.google.com/assets/colab-badge.svg\" alt=\"Open In Colab\"/></a>"
      ]
    },
    {
      "cell_type": "code",
      "execution_count": 1,
      "metadata": {
        "colab": {
          "base_uri": "https://localhost:8080/"
        },
        "id": "Do66rDEJ_gNY",
        "outputId": "5bb4475f-437d-40c6-a949-336c7ca60bb3"
      },
      "outputs": [
        {
          "output_type": "stream",
          "name": "stdout",
          "text": [
            "Collecting scapy\n",
            "  Downloading scapy-2.6.1-py3-none-any.whl.metadata (5.6 kB)\n",
            "Downloading scapy-2.6.1-py3-none-any.whl (2.4 MB)\n",
            "\u001b[?25l   \u001b[90m━━━━━━━━━━━━━━━━━━━━━━━━━━━━━━━━━━━━━━━━\u001b[0m \u001b[32m0.0/2.4 MB\u001b[0m \u001b[31m?\u001b[0m eta \u001b[36m-:--:--\u001b[0m\r\u001b[2K   \u001b[91m━━━━━━━━━━\u001b[0m\u001b[91m╸\u001b[0m\u001b[90m━━━━━━━━━━━━━━━━━━━━━━━━━━━━━\u001b[0m \u001b[32m0.7/2.4 MB\u001b[0m \u001b[31m21.5 MB/s\u001b[0m eta \u001b[36m0:00:01\u001b[0m\r\u001b[2K   \u001b[91m━━━━━━━━━━━━━━━━━━━━━━━━━━━━━━━━━━━━━━━\u001b[0m\u001b[91m╸\u001b[0m \u001b[32m2.4/2.4 MB\u001b[0m \u001b[31m46.5 MB/s\u001b[0m eta \u001b[36m0:00:01\u001b[0m\r\u001b[2K   \u001b[90m━━━━━━━━━━━━━━━━━━━━━━━━━━━━━━━━━━━━━━━━\u001b[0m \u001b[32m2.4/2.4 MB\u001b[0m \u001b[31m33.2 MB/s\u001b[0m eta \u001b[36m0:00:00\u001b[0m\n",
            "\u001b[?25hInstalling collected packages: scapy\n",
            "Successfully installed scapy-2.6.1\n"
          ]
        }
      ],
      "source": [
        "pip install scapy"
      ]
    },
    {
      "cell_type": "code",
      "source": [
        "from scapy.all import rdpcap, TCP, UDP, ICMP\n",
        "\n",
        "# Path to the pcap file\n",
        "pcap_file = \"Sample.pcap\"  # Change this to your actual file path\n",
        "\n",
        "# Read the packets from the pcap file\n",
        "packets = rdpcap(pcap_file)\n",
        "\n",
        "# Initialize counters\n",
        "tcp_count = 0\n",
        "udp_count = 0\n",
        "icmp_count = 0\n",
        "\n",
        "# Iterate through packets and count protocol occurrences\n",
        "for packet in packets:\n",
        "    if packet.haslayer(TCP):\n",
        "        tcp_count += 1\n",
        "    elif packet.haslayer(UDP):\n",
        "        udp_count += 1\n",
        "    elif packet.haslayer(ICMP):\n",
        "        icmp_count += 1\n",
        "\n",
        "# Display the results\n",
        "print(f\"TCP Packets: {tcp_count}\")\n",
        "print(f\"UDP Packets: {udp_count}\")\n",
        "print(f\"ICMP Packets: {icmp_count}\")"
      ],
      "metadata": {
        "colab": {
          "base_uri": "https://localhost:8080/"
        },
        "id": "Ip5qdUPC_-27",
        "outputId": "e3c3b59d-505c-4627-fe36-29ea17e57cef"
      },
      "execution_count": null,
      "outputs": [
        {
          "output_type": "stream",
          "name": "stdout",
          "text": [
            "TCP Packets: 2093\n",
            "UDP Packets: 393\n",
            "ICMP Packets: 0\n"
          ]
        }
      ]
    },
    {
      "cell_type": "code",
      "source": [
        "from collections import Counter\n",
        "from scapy.all import rdpcap, IP, TCP, ICMP\n",
        "\n",
        "# Path to the pcap file (update as needed)\n",
        "pcap_file_path = \"Sample.pcap\"\n",
        "\n",
        "# Read packets from the pcap file\n",
        "packets = rdpcap(pcap_file_path)\n",
        "\n",
        "# Initialize data structures for analysis\n",
        "ip_counter = Counter()\n",
        "syn_flood_attempts = Counter()\n",
        "icmp_requests = Counter()\n",
        "\n",
        "# Analyze packets\n",
        "for packet in packets:\n",
        "    if packet.haslayer(IP):\n",
        "        ip_src = packet[IP].src  # Extract source IP\n",
        "\n",
        "        # Count occurrences of each IP (detect excessive requests)\n",
        "        ip_counter[ip_src] += 1\n",
        "\n",
        "        # Detect TCP SYN flood attempts (repeated SYNs from the same source)\n",
        "        if packet.haslayer(TCP) and packet[TCP].flags == \"S\":\n",
        "            syn_flood_attempts[ip_src] += 1\n",
        "\n",
        "        # Detect ICMP flood (excessive ICMP requests)\n",
        "        if packet.haslayer(ICMP):\n",
        "            icmp_requests[ip_src] += 1\n",
        "\n",
        "# Identify potential brute-force attack (IPs making excessive requests)\n",
        "brute_force_ips = [ip for ip, count in ip_counter.items() if count > 100]\n",
        "\n",
        "# Identify possible SYN flood attack sources\n",
        "syn_flood_ips = [ip for ip, count in syn_flood_attempts.items() if count > 50]\n",
        "\n",
        "# Identify ICMP flood attack sources\n",
        "icmp_flood_ips = [ip for ip, count in icmp_requests.items() if count > 50]\n",
        "\n",
        "# Display results\n",
        "print(\"Potential Brute-Force Attack Sources:\", brute_force_ips)\n",
        "print(\"Potential SYN Flood Attack Sources:\", syn_flood_ips)\n",
        "print(\"Potential ICMP Flood Attack Sources:\", icmp_flood_ips)\n"
      ],
      "metadata": {
        "colab": {
          "base_uri": "https://localhost:8080/"
        },
        "id": "jg6CX_TtCUTO",
        "outputId": "b9b5e813-8be9-469e-aa36-97e3f003e86c"
      },
      "execution_count": null,
      "outputs": [
        {
          "output_type": "stream",
          "name": "stdout",
          "text": [
            "Potential Brute-Force Attack Sources: ['10.11.12.101', '80.85.159.236', '194.87.147.244', '124.217.255.96', '94.140.114.6']\n",
            "Potential SYN Flood Attack Sources: []\n",
            "Potential ICMP Flood Attack Sources: []\n"
          ]
        }
      ]
    },
    {
      "cell_type": "code",
      "source": [
        "from scapy.all import rdpcap, DNSQR\n",
        "from collections import Counter\n",
        "\n",
        "# Path to the pcap file (update this to your actual file path)\n",
        "pcap_file_path = \"Sample.pcap\"\n",
        "\n",
        "# Read packets from the pcap file\n",
        "packets = rdpcap(pcap_file_path)\n",
        "\n",
        "# Extract DNS query names\n",
        "dns_queries = []\n",
        "\n",
        "for packet in packets:\n",
        "    if packet.haslayer(DNSQR):  # Check if packet contains a DNS query\n",
        "        dns_queries.append(packet[DNSQR].qname.decode())  # Extract domain name\n",
        "\n",
        "# Count the most frequently queried domains\n",
        "dns_counts = Counter(dns_queries)\n",
        "\n",
        "# Display the top queried domains\n",
        "print(\"Most Frequently Queried Domains:\")\n",
        "for domain, count in dns_counts.most_common(10):  # Show top 10\n",
        "    print(f\"{domain}: {count} times\")\n"
      ],
      "metadata": {
        "colab": {
          "base_uri": "https://localhost:8080/"
        },
        "id": "kF_juhvfC_3T",
        "outputId": "18fb9815-d43e-4216-d6bf-9c7af7c038b1"
      },
      "execution_count": null,
      "outputs": [
        {
          "output_type": "stream",
          "name": "stdout",
          "text": [
            "Most Frequently Queried Domains:\n",
            "wpad.localdomain.: 68 times\n",
            "wpad.: 44 times\n",
            "isatap.localdomain.: 42 times\n",
            "teredo.ipv6.microsoft.com.: 12 times\n",
            "Smithers-PC.: 11 times\n",
            "google.com.: 6 times\n",
            "www.google.com.: 4 times\n",
            "kh2714ldb.com.: 4 times\n",
            "gmail.com.: 4 times\n",
            "dns.msftncsi.com.: 2 times\n"
          ]
        }
      ]
    },
    {
      "cell_type": "code",
      "source": [
        "from scapy.all import rdpcap, DNS, DNSQR\n",
        "from collections import Counter\n",
        "\n",
        "# Path to the pcap file (update this to your actual file path)\n",
        "pcap_file_path = \"Sample.pcap\"\n",
        "\n",
        "# Read packets from the pcap file\n",
        "packets = rdpcap(pcap_file_path)\n",
        "\n",
        "# Extract failed DNS query names\n",
        "dns_failures = []\n",
        "\n",
        "for packet in packets:\n",
        "    if packet.haslayer(DNS) and packet.haslayer(DNSQR):  # Check if packet contains a DNS query\n",
        "        dns_layer = packet[DNS]\n",
        "        if dns_layer.qr == 1 and dns_layer.rcode != 0:  # Response packet with a failure code\n",
        "            dns_failures.append(packet[DNSQR].qname.decode())\n",
        "\n",
        "# Count the most frequently failed domains\n",
        "dns_failure_counts = Counter(dns_failures)\n",
        "\n",
        "# Display the top failed queries\n",
        "print(\"Most Frequently Failed DNS Queries:\")\n",
        "for domain, count in dns_failure_counts.most_common(10):  # Show top 10 failures\n",
        "    print(f\"{domain}: {count} failures\")\n"
      ],
      "metadata": {
        "id": "IKqXGglyDTmm",
        "colab": {
          "base_uri": "https://localhost:8080/"
        },
        "outputId": "df05d45d-5c29-4883-c1ae-8fbc3bcdec88"
      },
      "execution_count": 4,
      "outputs": [
        {
          "output_type": "stream",
          "name": "stdout",
          "text": [
            "Most Frequently Failed DNS Queries:\n",
            "teredo.ipv6.microsoft.com.: 6 failures\n",
            "myip.opendns.com.localdomain.: 1 failures\n"
          ]
        }
      ]
    },
    {
      "cell_type": "code",
      "source": [],
      "metadata": {
        "id": "_OJD-pXxEHIH"
      },
      "execution_count": null,
      "outputs": []
    }
  ]
}